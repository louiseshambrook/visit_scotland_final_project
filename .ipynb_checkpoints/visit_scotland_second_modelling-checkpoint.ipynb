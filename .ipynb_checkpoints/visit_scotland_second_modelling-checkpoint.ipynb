{
 "cells": [
  {
   "cell_type": "markdown",
   "id": "ba3f77f2",
   "metadata": {},
   "source": [
    "### Modelling - second pass"
   ]
  },
  {
   "cell_type": "code",
   "execution_count": 1,
   "id": "cef1a69d",
   "metadata": {},
   "outputs": [],
   "source": [
    "import pandas as pd\n",
    "import numpy as np"
   ]
  },
  {
   "cell_type": "code",
   "execution_count": 4,
   "id": "a397eabb",
   "metadata": {},
   "outputs": [],
   "source": [
    "# reading in the dataset\n",
    "\n",
    "activities_spend = pd.read_csv(\"clean_data/activities_spend.csv\")"
   ]
  },
  {
   "cell_type": "code",
   "execution_count": 5,
   "id": "9760b02b",
   "metadata": {},
   "outputs": [
    {
     "data": {
      "text/html": [
       "<div>\n",
       "<style scoped>\n",
       "    .dataframe tbody tr th:only-of-type {\n",
       "        vertical-align: middle;\n",
       "    }\n",
       "\n",
       "    .dataframe tbody tr th {\n",
       "        vertical-align: top;\n",
       "    }\n",
       "\n",
       "    .dataframe thead th {\n",
       "        text-align: right;\n",
       "    }\n",
       "</style>\n",
       "<table border=\"1\" class=\"dataframe\">\n",
       "  <thead>\n",
       "    <tr style=\"text-align: right;\">\n",
       "      <th></th>\n",
       "      <th>value</th>\n",
       "      <th>activity_type</th>\n",
       "      <th>spend_unit</th>\n",
       "    </tr>\n",
       "  </thead>\n",
       "  <tbody>\n",
       "    <tr>\n",
       "      <th>0</th>\n",
       "      <td>1662</td>\n",
       "      <td>Shopping</td>\n",
       "      <td>million (£)</td>\n",
       "    </tr>\n",
       "    <tr>\n",
       "      <th>1</th>\n",
       "      <td>469</td>\n",
       "      <td>Live entertainment</td>\n",
       "      <td>million (£)</td>\n",
       "    </tr>\n",
       "    <tr>\n",
       "      <th>2</th>\n",
       "      <td>892</td>\n",
       "      <td>Evening out</td>\n",
       "      <td>million (£)</td>\n",
       "    </tr>\n",
       "    <tr>\n",
       "      <th>3</th>\n",
       "      <td>354</td>\n",
       "      <td>Attend personal event</td>\n",
       "      <td>million (£)</td>\n",
       "    </tr>\n",
       "    <tr>\n",
       "      <th>4</th>\n",
       "      <td>400</td>\n",
       "      <td>Live entertainment</td>\n",
       "      <td>million (£)</td>\n",
       "    </tr>\n",
       "  </tbody>\n",
       "</table>\n",
       "</div>"
      ],
      "text/plain": [
       "   value          activity_type   spend_unit\n",
       "0   1662               Shopping  million (£)\n",
       "1    469     Live entertainment  million (£)\n",
       "2    892            Evening out  million (£)\n",
       "3    354  Attend personal event  million (£)\n",
       "4    400     Live entertainment  million (£)"
      ]
     },
     "execution_count": 5,
     "metadata": {},
     "output_type": "execute_result"
    }
   ],
   "source": [
    "# examining the dataset\n",
    "\n",
    "activities_spend.head()"
   ]
  },
  {
   "cell_type": "code",
   "execution_count": 6,
   "id": "503c8c9f",
   "metadata": {},
   "outputs": [
    {
     "data": {
      "text/html": [
       "<div>\n",
       "<style scoped>\n",
       "    .dataframe tbody tr th:only-of-type {\n",
       "        vertical-align: middle;\n",
       "    }\n",
       "\n",
       "    .dataframe tbody tr th {\n",
       "        vertical-align: top;\n",
       "    }\n",
       "\n",
       "    .dataframe thead th {\n",
       "        text-align: right;\n",
       "    }\n",
       "</style>\n",
       "<table border=\"1\" class=\"dataframe\">\n",
       "  <thead>\n",
       "    <tr style=\"text-align: right;\">\n",
       "      <th></th>\n",
       "      <th>value</th>\n",
       "      <th>activity_type_Day out</th>\n",
       "      <th>activity_type_Evening out</th>\n",
       "      <th>activity_type_Leisure activity</th>\n",
       "      <th>activity_type_Live entertainment</th>\n",
       "      <th>activity_type_Shopping</th>\n",
       "      <th>activity_type_Visit attraction</th>\n",
       "      <th>activity_type_Visit family/friends</th>\n",
       "    </tr>\n",
       "  </thead>\n",
       "  <tbody>\n",
       "    <tr>\n",
       "      <th>0</th>\n",
       "      <td>1662</td>\n",
       "      <td>0</td>\n",
       "      <td>0</td>\n",
       "      <td>0</td>\n",
       "      <td>0</td>\n",
       "      <td>1</td>\n",
       "      <td>0</td>\n",
       "      <td>0</td>\n",
       "    </tr>\n",
       "    <tr>\n",
       "      <th>1</th>\n",
       "      <td>469</td>\n",
       "      <td>0</td>\n",
       "      <td>0</td>\n",
       "      <td>0</td>\n",
       "      <td>1</td>\n",
       "      <td>0</td>\n",
       "      <td>0</td>\n",
       "      <td>0</td>\n",
       "    </tr>\n",
       "    <tr>\n",
       "      <th>2</th>\n",
       "      <td>892</td>\n",
       "      <td>0</td>\n",
       "      <td>1</td>\n",
       "      <td>0</td>\n",
       "      <td>0</td>\n",
       "      <td>0</td>\n",
       "      <td>0</td>\n",
       "      <td>0</td>\n",
       "    </tr>\n",
       "    <tr>\n",
       "      <th>3</th>\n",
       "      <td>354</td>\n",
       "      <td>0</td>\n",
       "      <td>0</td>\n",
       "      <td>0</td>\n",
       "      <td>0</td>\n",
       "      <td>0</td>\n",
       "      <td>0</td>\n",
       "      <td>0</td>\n",
       "    </tr>\n",
       "    <tr>\n",
       "      <th>4</th>\n",
       "      <td>400</td>\n",
       "      <td>0</td>\n",
       "      <td>0</td>\n",
       "      <td>0</td>\n",
       "      <td>1</td>\n",
       "      <td>0</td>\n",
       "      <td>0</td>\n",
       "      <td>0</td>\n",
       "    </tr>\n",
       "  </tbody>\n",
       "</table>\n",
       "</div>"
      ],
      "text/plain": [
       "   value  activity_type_Day out  activity_type_Evening out  \\\n",
       "0   1662                      0                          0   \n",
       "1    469                      0                          0   \n",
       "2    892                      0                          1   \n",
       "3    354                      0                          0   \n",
       "4    400                      0                          0   \n",
       "\n",
       "   activity_type_Leisure activity  activity_type_Live entertainment  \\\n",
       "0                               0                                 0   \n",
       "1                               0                                 1   \n",
       "2                               0                                 0   \n",
       "3                               0                                 0   \n",
       "4                               0                                 1   \n",
       "\n",
       "   activity_type_Shopping  activity_type_Visit attraction  \\\n",
       "0                       1                               0   \n",
       "1                       0                               0   \n",
       "2                       0                               0   \n",
       "3                       0                               0   \n",
       "4                       0                               0   \n",
       "\n",
       "   activity_type_Visit family/friends  \n",
       "0                                   0  \n",
       "1                                   0  \n",
       "2                                   0  \n",
       "3                                   0  \n",
       "4                                   0  "
      ]
     },
     "execution_count": 6,
     "metadata": {},
     "output_type": "execute_result"
    }
   ],
   "source": [
    "# creating dummy variables\n",
    "\n",
    "activities_spend = pd.get_dummies(activities_spend, drop_first = True)\n",
    "\n",
    "activities_spend.head()"
   ]
  },
  {
   "cell_type": "code",
   "execution_count": null,
   "id": "3a15de45",
   "metadata": {},
   "outputs": [],
   "source": [
    "# this looks better - there are only 7 dummy variables, and therefore 7 variables now.\n",
    "# This means less of a chance of overfitting."
   ]
  },
  {
   "cell_type": "code",
   "execution_count": null,
   "id": "bd9ed28b",
   "metadata": {},
   "outputs": [],
   "source": [
    "# building the model"
   ]
  },
  {
   "cell_type": "code",
   "execution_count": 7,
   "id": "10741bd0",
   "metadata": {},
   "outputs": [],
   "source": [
    "from sklearn.linear_model import LinearRegression"
   ]
  },
  {
   "cell_type": "code",
   "execution_count": 8,
   "id": "03804549",
   "metadata": {},
   "outputs": [],
   "source": [
    "# setting the response array\n",
    "\n",
    "response_var = activities_spend[\"value\"]\n",
    "\n",
    "# putting the predictors in a dataframe\n",
    "predictors_vars = activities_spend.drop(columns = \"value\")"
   ]
  },
  {
   "cell_type": "code",
   "execution_count": 9,
   "id": "6f5508e5",
   "metadata": {},
   "outputs": [
    {
     "data": {
      "text/plain": [
       "LinearRegression()"
      ]
     },
     "execution_count": 9,
     "metadata": {},
     "output_type": "execute_result"
    }
   ],
   "source": [
    "# defining the model\n",
    "\n",
    "model = LinearRegression()\n",
    "\n",
    "model.fit(predictors_vars, response_var)"
   ]
  },
  {
   "cell_type": "code",
   "execution_count": 10,
   "id": "441f2488",
   "metadata": {},
   "outputs": [
    {
     "data": {
      "text/plain": [
       "0.6909188806674171"
      ]
     },
     "execution_count": 10,
     "metadata": {},
     "output_type": "execute_result"
    }
   ],
   "source": [
    "# getting the r-sq value\n",
    "\n",
    "model.score(predictors_vars, response_var)"
   ]
  },
  {
   "cell_type": "code",
   "execution_count": null,
   "id": "bd8d79ba",
   "metadata": {},
   "outputs": [],
   "source": [
    "# This is a lot better, and a lot more what I'd expect for a good model.\n",
    "# The first one seemed massively overfitted, where this is more realistic. Hopefully I'll have good p-values here too."
   ]
  },
  {
   "cell_type": "code",
   "execution_count": 11,
   "id": "91ad8ece",
   "metadata": {},
   "outputs": [
    {
     "data": {
      "text/plain": [
       "229.71428571428595"
      ]
     },
     "execution_count": 11,
     "metadata": {},
     "output_type": "execute_result"
    }
   ],
   "source": [
    "# getting the coefficients\n",
    "\n",
    "model.intercept_"
   ]
  },
  {
   "cell_type": "code",
   "execution_count": 12,
   "id": "5cde6862",
   "metadata": {},
   "outputs": [
    {
     "data": {
      "text/plain": [
       "array([ 210.71428571,  583.14285714,  271.95238095,  161.78571429,\n",
       "       1230.57142857,  234.71428571, 1219.14285714])"
      ]
     },
     "execution_count": 12,
     "metadata": {},
     "output_type": "execute_result"
    }
   ],
   "source": [
    "model.coef_\n",
    "\n",
    "# these numbers don't seem as scattered as the first lot did - but maybe that just because there's fewer of them?"
   ]
  },
  {
   "cell_type": "code",
   "execution_count": 13,
   "id": "762059e5",
   "metadata": {},
   "outputs": [],
   "source": [
    "# getting the p-values"
   ]
  },
  {
   "cell_type": "code",
   "execution_count": 14,
   "id": "9f2236eb",
   "metadata": {},
   "outputs": [
    {
     "name": "stderr",
     "output_type": "stream",
     "text": [
      "/usr/local/anaconda3/envs/python39/lib/python3.9/site-packages/statsmodels/compat/pandas.py:65: FutureWarning: pandas.Int64Index is deprecated and will be removed from pandas in a future version. Use pandas.Index with the appropriate dtype instead.\n",
      "  from pandas import Int64Index as NumericIndex\n"
     ]
    }
   ],
   "source": [
    "import statsmodels.api as sm"
   ]
  },
  {
   "cell_type": "code",
   "execution_count": null,
   "id": "302be7f8",
   "metadata": {},
   "outputs": [],
   "source": []
  },
  {
   "cell_type": "code",
   "execution_count": null,
   "id": "19cbfa8f",
   "metadata": {},
   "outputs": [],
   "source": []
  },
  {
   "cell_type": "code",
   "execution_count": null,
   "id": "969e1898",
   "metadata": {},
   "outputs": [],
   "source": []
  },
  {
   "cell_type": "code",
   "execution_count": null,
   "id": "e79e7582",
   "metadata": {},
   "outputs": [],
   "source": []
  },
  {
   "cell_type": "code",
   "execution_count": null,
   "id": "e382766a",
   "metadata": {},
   "outputs": [],
   "source": []
  },
  {
   "cell_type": "code",
   "execution_count": null,
   "id": "93c83a70",
   "metadata": {},
   "outputs": [],
   "source": []
  },
  {
   "cell_type": "code",
   "execution_count": null,
   "id": "b2b3be3f",
   "metadata": {},
   "outputs": [],
   "source": []
  },
  {
   "cell_type": "code",
   "execution_count": null,
   "id": "2f125b11",
   "metadata": {},
   "outputs": [],
   "source": []
  },
  {
   "cell_type": "code",
   "execution_count": null,
   "id": "34d4dccc",
   "metadata": {},
   "outputs": [],
   "source": []
  },
  {
   "cell_type": "code",
   "execution_count": null,
   "id": "b1dd3626",
   "metadata": {},
   "outputs": [],
   "source": []
  },
  {
   "cell_type": "code",
   "execution_count": null,
   "id": "6c6c0832",
   "metadata": {},
   "outputs": [],
   "source": []
  },
  {
   "cell_type": "code",
   "execution_count": null,
   "id": "fbbb9c1c",
   "metadata": {},
   "outputs": [],
   "source": []
  }
 ],
 "metadata": {
  "kernelspec": {
   "display_name": "Python 3 (ipykernel)",
   "language": "python",
   "name": "python3"
  },
  "language_info": {
   "codemirror_mode": {
    "name": "ipython",
    "version": 3
   },
   "file_extension": ".py",
   "mimetype": "text/x-python",
   "name": "python",
   "nbconvert_exporter": "python",
   "pygments_lexer": "ipython3",
   "version": "3.9.7"
  }
 },
 "nbformat": 4,
 "nbformat_minor": 5
}
