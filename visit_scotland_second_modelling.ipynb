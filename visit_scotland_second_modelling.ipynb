{
 "cells": [
  {
   "cell_type": "markdown",
   "id": "934cafc1",
   "metadata": {},
   "source": [
    "### Modelling - second pass"
   ]
  },
  {
   "cell_type": "code",
   "execution_count": 1,
   "id": "4c07ceba",
   "metadata": {},
   "outputs": [],
   "source": [
    "import pandas as pd\n",
    "import numpy as np"
   ]
  },
  {
   "cell_type": "code",
   "execution_count": 4,
   "id": "c3058b05",
   "metadata": {},
   "outputs": [],
   "source": [
    "# reading in the dataset\n",
    "\n",
    "activities_spend = pd.read_csv(\"clean_data/activities_spend.csv\")"
   ]
  },
  {
   "cell_type": "code",
   "execution_count": 5,
   "id": "b622e764",
   "metadata": {},
   "outputs": [
    {
     "data": {
      "text/html": [
       "<div>\n",
       "<style scoped>\n",
       "    .dataframe tbody tr th:only-of-type {\n",
       "        vertical-align: middle;\n",
       "    }\n",
       "\n",
       "    .dataframe tbody tr th {\n",
       "        vertical-align: top;\n",
       "    }\n",
       "\n",
       "    .dataframe thead th {\n",
       "        text-align: right;\n",
       "    }\n",
       "</style>\n",
       "<table border=\"1\" class=\"dataframe\">\n",
       "  <thead>\n",
       "    <tr style=\"text-align: right;\">\n",
       "      <th></th>\n",
       "      <th>value</th>\n",
       "      <th>activity_type</th>\n",
       "      <th>spend_unit</th>\n",
       "    </tr>\n",
       "  </thead>\n",
       "  <tbody>\n",
       "    <tr>\n",
       "      <th>0</th>\n",
       "      <td>1662</td>\n",
       "      <td>Shopping</td>\n",
       "      <td>million (£)</td>\n",
       "    </tr>\n",
       "    <tr>\n",
       "      <th>1</th>\n",
       "      <td>469</td>\n",
       "      <td>Live entertainment</td>\n",
       "      <td>million (£)</td>\n",
       "    </tr>\n",
       "    <tr>\n",
       "      <th>2</th>\n",
       "      <td>892</td>\n",
       "      <td>Evening out</td>\n",
       "      <td>million (£)</td>\n",
       "    </tr>\n",
       "    <tr>\n",
       "      <th>3</th>\n",
       "      <td>354</td>\n",
       "      <td>Attend personal event</td>\n",
       "      <td>million (£)</td>\n",
       "    </tr>\n",
       "    <tr>\n",
       "      <th>4</th>\n",
       "      <td>400</td>\n",
       "      <td>Live entertainment</td>\n",
       "      <td>million (£)</td>\n",
       "    </tr>\n",
       "  </tbody>\n",
       "</table>\n",
       "</div>"
      ],
      "text/plain": [
       "   value          activity_type   spend_unit\n",
       "0   1662               Shopping  million (£)\n",
       "1    469     Live entertainment  million (£)\n",
       "2    892            Evening out  million (£)\n",
       "3    354  Attend personal event  million (£)\n",
       "4    400     Live entertainment  million (£)"
      ]
     },
     "execution_count": 5,
     "metadata": {},
     "output_type": "execute_result"
    }
   ],
   "source": [
    "# examining the dataset\n",
    "\n",
    "activities_spend.head()"
   ]
  },
  {
   "cell_type": "code",
   "execution_count": 6,
   "id": "00f59454",
   "metadata": {},
   "outputs": [
    {
     "data": {
      "text/html": [
       "<div>\n",
       "<style scoped>\n",
       "    .dataframe tbody tr th:only-of-type {\n",
       "        vertical-align: middle;\n",
       "    }\n",
       "\n",
       "    .dataframe tbody tr th {\n",
       "        vertical-align: top;\n",
       "    }\n",
       "\n",
       "    .dataframe thead th {\n",
       "        text-align: right;\n",
       "    }\n",
       "</style>\n",
       "<table border=\"1\" class=\"dataframe\">\n",
       "  <thead>\n",
       "    <tr style=\"text-align: right;\">\n",
       "      <th></th>\n",
       "      <th>value</th>\n",
       "      <th>activity_type_Day out</th>\n",
       "      <th>activity_type_Evening out</th>\n",
       "      <th>activity_type_Leisure activity</th>\n",
       "      <th>activity_type_Live entertainment</th>\n",
       "      <th>activity_type_Shopping</th>\n",
       "      <th>activity_type_Visit attraction</th>\n",
       "      <th>activity_type_Visit family/friends</th>\n",
       "    </tr>\n",
       "  </thead>\n",
       "  <tbody>\n",
       "    <tr>\n",
       "      <th>0</th>\n",
       "      <td>1662</td>\n",
       "      <td>0</td>\n",
       "      <td>0</td>\n",
       "      <td>0</td>\n",
       "      <td>0</td>\n",
       "      <td>1</td>\n",
       "      <td>0</td>\n",
       "      <td>0</td>\n",
       "    </tr>\n",
       "    <tr>\n",
       "      <th>1</th>\n",
       "      <td>469</td>\n",
       "      <td>0</td>\n",
       "      <td>0</td>\n",
       "      <td>0</td>\n",
       "      <td>1</td>\n",
       "      <td>0</td>\n",
       "      <td>0</td>\n",
       "      <td>0</td>\n",
       "    </tr>\n",
       "    <tr>\n",
       "      <th>2</th>\n",
       "      <td>892</td>\n",
       "      <td>0</td>\n",
       "      <td>1</td>\n",
       "      <td>0</td>\n",
       "      <td>0</td>\n",
       "      <td>0</td>\n",
       "      <td>0</td>\n",
       "      <td>0</td>\n",
       "    </tr>\n",
       "    <tr>\n",
       "      <th>3</th>\n",
       "      <td>354</td>\n",
       "      <td>0</td>\n",
       "      <td>0</td>\n",
       "      <td>0</td>\n",
       "      <td>0</td>\n",
       "      <td>0</td>\n",
       "      <td>0</td>\n",
       "      <td>0</td>\n",
       "    </tr>\n",
       "    <tr>\n",
       "      <th>4</th>\n",
       "      <td>400</td>\n",
       "      <td>0</td>\n",
       "      <td>0</td>\n",
       "      <td>0</td>\n",
       "      <td>1</td>\n",
       "      <td>0</td>\n",
       "      <td>0</td>\n",
       "      <td>0</td>\n",
       "    </tr>\n",
       "  </tbody>\n",
       "</table>\n",
       "</div>"
      ],
      "text/plain": [
       "   value  activity_type_Day out  activity_type_Evening out  \\\n",
       "0   1662                      0                          0   \n",
       "1    469                      0                          0   \n",
       "2    892                      0                          1   \n",
       "3    354                      0                          0   \n",
       "4    400                      0                          0   \n",
       "\n",
       "   activity_type_Leisure activity  activity_type_Live entertainment  \\\n",
       "0                               0                                 0   \n",
       "1                               0                                 1   \n",
       "2                               0                                 0   \n",
       "3                               0                                 0   \n",
       "4                               0                                 1   \n",
       "\n",
       "   activity_type_Shopping  activity_type_Visit attraction  \\\n",
       "0                       1                               0   \n",
       "1                       0                               0   \n",
       "2                       0                               0   \n",
       "3                       0                               0   \n",
       "4                       0                               0   \n",
       "\n",
       "   activity_type_Visit family/friends  \n",
       "0                                   0  \n",
       "1                                   0  \n",
       "2                                   0  \n",
       "3                                   0  \n",
       "4                                   0  "
      ]
     },
     "execution_count": 6,
     "metadata": {},
     "output_type": "execute_result"
    }
   ],
   "source": [
    "# creating dummy variables\n",
    "\n",
    "activities_spend = pd.get_dummies(activities_spend, drop_first = True)\n",
    "\n",
    "activities_spend.head()"
   ]
  },
  {
   "cell_type": "code",
   "execution_count": null,
   "id": "1649df42",
   "metadata": {},
   "outputs": [],
   "source": [
    "# this looks better - there are only 7 dummy variables, and therefore 7 variables now.\n",
    "# This means less of a chance of overfitting."
   ]
  },
  {
   "cell_type": "code",
   "execution_count": null,
   "id": "6543d5a5",
   "metadata": {},
   "outputs": [],
   "source": [
    "# building the model"
   ]
  },
  {
   "cell_type": "code",
   "execution_count": 7,
   "id": "5e03d222",
   "metadata": {},
   "outputs": [],
   "source": [
    "from sklearn.linear_model import LinearRegression"
   ]
  },
  {
   "cell_type": "code",
   "execution_count": 8,
   "id": "19ac6961",
   "metadata": {},
   "outputs": [],
   "source": [
    "# setting the response array\n",
    "\n",
    "response_var = activities_spend[\"value\"]\n",
    "\n",
    "# putting the predictors in a dataframe\n",
    "predictors_vars = activities_spend.drop(columns = \"value\")"
   ]
  },
  {
   "cell_type": "code",
   "execution_count": 9,
   "id": "a4b69dea",
   "metadata": {},
   "outputs": [
    {
     "data": {
      "text/plain": [
       "LinearRegression()"
      ]
     },
     "execution_count": 9,
     "metadata": {},
     "output_type": "execute_result"
    }
   ],
   "source": [
    "# defining the model\n",
    "\n",
    "model = LinearRegression()\n",
    "\n",
    "model.fit(predictors_vars, response_var)"
   ]
  },
  {
   "cell_type": "code",
   "execution_count": 10,
   "id": "5f13e68a",
   "metadata": {},
   "outputs": [
    {
     "data": {
      "text/plain": [
       "0.6909188806674171"
      ]
     },
     "execution_count": 10,
     "metadata": {},
     "output_type": "execute_result"
    }
   ],
   "source": [
    "# getting the r-sq value\n",
    "\n",
    "model.score(predictors_vars, response_var)"
   ]
  },
  {
   "cell_type": "code",
   "execution_count": null,
   "id": "3aa1f77c",
   "metadata": {},
   "outputs": [],
   "source": [
    "# This is a lot better, and a lot more what I'd expect for a good model.\n",
    "# The first one seemed massively overfitted, where this is more realistic. Hopefully I'll have good p-values here too."
   ]
  },
  {
   "cell_type": "code",
   "execution_count": 11,
   "id": "1eba6948",
   "metadata": {},
   "outputs": [
    {
     "data": {
      "text/plain": [
       "229.71428571428595"
      ]
     },
     "execution_count": 11,
     "metadata": {},
     "output_type": "execute_result"
    }
   ],
   "source": [
    "# getting the coefficients\n",
    "\n",
    "model.intercept_"
   ]
  },
  {
   "cell_type": "code",
   "execution_count": 12,
   "id": "0c1bb675",
   "metadata": {},
   "outputs": [
    {
     "data": {
      "text/plain": [
       "array([ 210.71428571,  583.14285714,  271.95238095,  161.78571429,\n",
       "       1230.57142857,  234.71428571, 1219.14285714])"
      ]
     },
     "execution_count": 12,
     "metadata": {},
     "output_type": "execute_result"
    }
   ],
   "source": [
    "model.coef_\n",
    "\n",
    "# these numbers don't seem as scattered as the first lot did - but maybe that just because there's fewer of them?"
   ]
  },
  {
   "cell_type": "code",
   "execution_count": 13,
   "id": "f12508d9",
   "metadata": {},
   "outputs": [],
   "source": [
    "# getting the p-values"
   ]
  },
  {
   "cell_type": "code",
   "execution_count": 14,
   "id": "8e43dd3c",
   "metadata": {},
   "outputs": [
    {
     "name": "stderr",
     "output_type": "stream",
     "text": [
      "/usr/local/anaconda3/envs/python39/lib/python3.9/site-packages/statsmodels/compat/pandas.py:65: FutureWarning: pandas.Int64Index is deprecated and will be removed from pandas in a future version. Use pandas.Index with the appropriate dtype instead.\n",
      "  from pandas import Int64Index as NumericIndex\n"
     ]
    }
   ],
   "source": [
    "import statsmodels.api as sm"
   ]
  },
  {
   "cell_type": "code",
   "execution_count": 15,
   "id": "eb1229d4",
   "metadata": {},
   "outputs": [],
   "source": [
    "predictors_vars = sm.add_constant(predictors_vars)"
   ]
  },
  {
   "cell_type": "code",
   "execution_count": 16,
   "id": "40e0bcc7",
   "metadata": {},
   "outputs": [
    {
     "name": "stdout",
     "output_type": "stream",
     "text": [
      "                            OLS Regression Results                            \n",
      "==============================================================================\n",
      "Dep. Variable:                  value   R-squared:                       0.691\n",
      "Model:                            OLS   Adj. R-squared:                  0.667\n",
      "Method:                 Least Squares   F-statistic:                     28.74\n",
      "Date:                Fri, 11 Feb 2022   Prob (F-statistic):           2.07e-20\n",
      "Time:                        14:00:38   Log-Likelihood:                -678.36\n",
      "No. Observations:                  98   AIC:                             1373.\n",
      "Df Residuals:                      90   BIC:                             1393.\n",
      "Df Model:                           7                                         \n",
      "Covariance Type:            nonrobust                                         \n",
      "======================================================================================================\n",
      "                                         coef    std err          t      P>|t|      [0.025      0.975]\n",
      "------------------------------------------------------------------------------------------------------\n",
      "const                                229.7143     96.806      2.373      0.020      37.393     422.036\n",
      "activity_type_Day out                210.7143    111.782      1.885      0.063     -11.359     432.788\n",
      "activity_type_Evening out            583.1429    118.562      4.918      0.000     347.598     818.687\n",
      "activity_type_Leisure activity       271.9524    111.782      2.433      0.017      49.879     494.026\n",
      "activity_type_Live entertainment     161.7857    118.562      1.365      0.176     -73.759     397.330\n",
      "activity_type_Shopping              1230.5714    136.904      8.989      0.000     958.588    1502.555\n",
      "activity_type_Visit attraction       234.7143    136.904      1.714      0.090     -37.269     506.698\n",
      "activity_type_Visit family/friends  1219.1429    136.904      8.905      0.000     947.159    1491.126\n",
      "==============================================================================\n",
      "Omnibus:                        7.403   Durbin-Watson:                   1.415\n",
      "Prob(Omnibus):                  0.025   Jarque-Bera (JB):                7.084\n",
      "Skew:                           0.645   Prob(JB):                       0.0290\n",
      "Kurtosis:                       3.264   Cond. No.                         11.8\n",
      "==============================================================================\n",
      "\n",
      "Notes:\n",
      "[1] Standard Errors assume that the covariance matrix of the errors is correctly specified.\n"
     ]
    }
   ],
   "source": [
    "sm_model = sm.OLS(response_var, predictors_vars).fit()\n",
    "print(sm_model.summary())"
   ]
  },
  {
   "cell_type": "code",
   "execution_count": null,
   "id": "4ff65a3c",
   "metadata": {},
   "outputs": [],
   "source": []
  },
  {
   "cell_type": "code",
   "execution_count": null,
   "id": "ddcf7f47",
   "metadata": {},
   "outputs": [],
   "source": []
  },
  {
   "cell_type": "code",
   "execution_count": null,
   "id": "81c6c595",
   "metadata": {},
   "outputs": [],
   "source": []
  },
  {
   "cell_type": "code",
   "execution_count": null,
   "id": "db96dc05",
   "metadata": {},
   "outputs": [],
   "source": []
  },
  {
   "cell_type": "code",
   "execution_count": null,
   "id": "c1b1b7b0",
   "metadata": {},
   "outputs": [],
   "source": []
  },
  {
   "cell_type": "code",
   "execution_count": null,
   "id": "b804b708",
   "metadata": {},
   "outputs": [],
   "source": []
  },
  {
   "cell_type": "code",
   "execution_count": null,
   "id": "18c3a2c1",
   "metadata": {},
   "outputs": [],
   "source": []
  },
  {
   "cell_type": "code",
   "execution_count": null,
   "id": "57ac6559",
   "metadata": {},
   "outputs": [],
   "source": []
  },
  {
   "cell_type": "code",
   "execution_count": null,
   "id": "4e505c6b",
   "metadata": {},
   "outputs": [],
   "source": []
  },
  {
   "cell_type": "code",
   "execution_count": null,
   "id": "eb528a0d",
   "metadata": {},
   "outputs": [],
   "source": []
  }
 ],
 "metadata": {
  "kernelspec": {
   "display_name": "Python 3 (ipykernel)",
   "language": "python",
   "name": "python3"
  },
  "language_info": {
   "codemirror_mode": {
    "name": "ipython",
    "version": 3
   },
   "file_extension": ".py",
   "mimetype": "text/x-python",
   "name": "python",
   "nbconvert_exporter": "python",
   "pygments_lexer": "ipython3",
   "version": "3.9.7"
  }
 },
 "nbformat": 4,
 "nbformat_minor": 5
}
