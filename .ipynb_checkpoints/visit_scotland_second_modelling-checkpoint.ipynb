{
 "cells": [
  {
   "cell_type": "markdown",
   "id": "5580e557",
   "metadata": {},
   "source": [
    "### Modelling - second pass"
   ]
  },
  {
   "cell_type": "code",
   "execution_count": 1,
   "id": "ec67948c",
   "metadata": {},
   "outputs": [],
   "source": [
    "import pandas as pd\n",
    "import numpy as np"
   ]
  },
  {
   "cell_type": "code",
   "execution_count": 4,
   "id": "786f6dc3",
   "metadata": {},
   "outputs": [],
   "source": [
    "# reading in the dataset\n",
    "\n",
    "activities_spend = pd.read_csv(\"clean_data/activities_spend.csv\")"
   ]
  },
  {
   "cell_type": "code",
   "execution_count": 5,
   "id": "6e41b31b",
   "metadata": {},
   "outputs": [
    {
     "data": {
      "text/html": [
       "<div>\n",
       "<style scoped>\n",
       "    .dataframe tbody tr th:only-of-type {\n",
       "        vertical-align: middle;\n",
       "    }\n",
       "\n",
       "    .dataframe tbody tr th {\n",
       "        vertical-align: top;\n",
       "    }\n",
       "\n",
       "    .dataframe thead th {\n",
       "        text-align: right;\n",
       "    }\n",
       "</style>\n",
       "<table border=\"1\" class=\"dataframe\">\n",
       "  <thead>\n",
       "    <tr style=\"text-align: right;\">\n",
       "      <th></th>\n",
       "      <th>value</th>\n",
       "      <th>activity_type</th>\n",
       "      <th>spend_unit</th>\n",
       "    </tr>\n",
       "  </thead>\n",
       "  <tbody>\n",
       "    <tr>\n",
       "      <th>0</th>\n",
       "      <td>1662</td>\n",
       "      <td>Shopping</td>\n",
       "      <td>million (£)</td>\n",
       "    </tr>\n",
       "    <tr>\n",
       "      <th>1</th>\n",
       "      <td>469</td>\n",
       "      <td>Live entertainment</td>\n",
       "      <td>million (£)</td>\n",
       "    </tr>\n",
       "    <tr>\n",
       "      <th>2</th>\n",
       "      <td>892</td>\n",
       "      <td>Evening out</td>\n",
       "      <td>million (£)</td>\n",
       "    </tr>\n",
       "    <tr>\n",
       "      <th>3</th>\n",
       "      <td>354</td>\n",
       "      <td>Attend personal event</td>\n",
       "      <td>million (£)</td>\n",
       "    </tr>\n",
       "    <tr>\n",
       "      <th>4</th>\n",
       "      <td>400</td>\n",
       "      <td>Live entertainment</td>\n",
       "      <td>million (£)</td>\n",
       "    </tr>\n",
       "  </tbody>\n",
       "</table>\n",
       "</div>"
      ],
      "text/plain": [
       "   value          activity_type   spend_unit\n",
       "0   1662               Shopping  million (£)\n",
       "1    469     Live entertainment  million (£)\n",
       "2    892            Evening out  million (£)\n",
       "3    354  Attend personal event  million (£)\n",
       "4    400     Live entertainment  million (£)"
      ]
     },
     "execution_count": 5,
     "metadata": {},
     "output_type": "execute_result"
    }
   ],
   "source": [
    "# examining the dataset\n",
    "\n",
    "activities_spend.head()"
   ]
  },
  {
   "cell_type": "code",
   "execution_count": 6,
   "id": "bff4e31c",
   "metadata": {},
   "outputs": [
    {
     "data": {
      "text/html": [
       "<div>\n",
       "<style scoped>\n",
       "    .dataframe tbody tr th:only-of-type {\n",
       "        vertical-align: middle;\n",
       "    }\n",
       "\n",
       "    .dataframe tbody tr th {\n",
       "        vertical-align: top;\n",
       "    }\n",
       "\n",
       "    .dataframe thead th {\n",
       "        text-align: right;\n",
       "    }\n",
       "</style>\n",
       "<table border=\"1\" class=\"dataframe\">\n",
       "  <thead>\n",
       "    <tr style=\"text-align: right;\">\n",
       "      <th></th>\n",
       "      <th>value</th>\n",
       "      <th>activity_type_Day out</th>\n",
       "      <th>activity_type_Evening out</th>\n",
       "      <th>activity_type_Leisure activity</th>\n",
       "      <th>activity_type_Live entertainment</th>\n",
       "      <th>activity_type_Shopping</th>\n",
       "      <th>activity_type_Visit attraction</th>\n",
       "      <th>activity_type_Visit family/friends</th>\n",
       "    </tr>\n",
       "  </thead>\n",
       "  <tbody>\n",
       "    <tr>\n",
       "      <th>0</th>\n",
       "      <td>1662</td>\n",
       "      <td>0</td>\n",
       "      <td>0</td>\n",
       "      <td>0</td>\n",
       "      <td>0</td>\n",
       "      <td>1</td>\n",
       "      <td>0</td>\n",
       "      <td>0</td>\n",
       "    </tr>\n",
       "    <tr>\n",
       "      <th>1</th>\n",
       "      <td>469</td>\n",
       "      <td>0</td>\n",
       "      <td>0</td>\n",
       "      <td>0</td>\n",
       "      <td>1</td>\n",
       "      <td>0</td>\n",
       "      <td>0</td>\n",
       "      <td>0</td>\n",
       "    </tr>\n",
       "    <tr>\n",
       "      <th>2</th>\n",
       "      <td>892</td>\n",
       "      <td>0</td>\n",
       "      <td>1</td>\n",
       "      <td>0</td>\n",
       "      <td>0</td>\n",
       "      <td>0</td>\n",
       "      <td>0</td>\n",
       "      <td>0</td>\n",
       "    </tr>\n",
       "    <tr>\n",
       "      <th>3</th>\n",
       "      <td>354</td>\n",
       "      <td>0</td>\n",
       "      <td>0</td>\n",
       "      <td>0</td>\n",
       "      <td>0</td>\n",
       "      <td>0</td>\n",
       "      <td>0</td>\n",
       "      <td>0</td>\n",
       "    </tr>\n",
       "    <tr>\n",
       "      <th>4</th>\n",
       "      <td>400</td>\n",
       "      <td>0</td>\n",
       "      <td>0</td>\n",
       "      <td>0</td>\n",
       "      <td>1</td>\n",
       "      <td>0</td>\n",
       "      <td>0</td>\n",
       "      <td>0</td>\n",
       "    </tr>\n",
       "  </tbody>\n",
       "</table>\n",
       "</div>"
      ],
      "text/plain": [
       "   value  activity_type_Day out  activity_type_Evening out  \\\n",
       "0   1662                      0                          0   \n",
       "1    469                      0                          0   \n",
       "2    892                      0                          1   \n",
       "3    354                      0                          0   \n",
       "4    400                      0                          0   \n",
       "\n",
       "   activity_type_Leisure activity  activity_type_Live entertainment  \\\n",
       "0                               0                                 0   \n",
       "1                               0                                 1   \n",
       "2                               0                                 0   \n",
       "3                               0                                 0   \n",
       "4                               0                                 1   \n",
       "\n",
       "   activity_type_Shopping  activity_type_Visit attraction  \\\n",
       "0                       1                               0   \n",
       "1                       0                               0   \n",
       "2                       0                               0   \n",
       "3                       0                               0   \n",
       "4                       0                               0   \n",
       "\n",
       "   activity_type_Visit family/friends  \n",
       "0                                   0  \n",
       "1                                   0  \n",
       "2                                   0  \n",
       "3                                   0  \n",
       "4                                   0  "
      ]
     },
     "execution_count": 6,
     "metadata": {},
     "output_type": "execute_result"
    }
   ],
   "source": [
    "# creating dummy variables\n",
    "\n",
    "activities_spend = pd.get_dummies(activities_spend, drop_first = True)\n",
    "\n",
    "activities_spend.head()"
   ]
  },
  {
   "cell_type": "code",
   "execution_count": null,
   "id": "786b7f8e",
   "metadata": {},
   "outputs": [],
   "source": [
    "# this looks better - there are only 7 dummy variables, and therefore 7 variables now.\n",
    "# This means less of a chance of overfitting."
   ]
  },
  {
   "cell_type": "code",
   "execution_count": null,
   "id": "b1034568",
   "metadata": {},
   "outputs": [],
   "source": [
    "# building the model"
   ]
  },
  {
   "cell_type": "code",
   "execution_count": 7,
   "id": "e3427f57",
   "metadata": {},
   "outputs": [],
   "source": [
    "from sklearn.linear_model import LinearRegression"
   ]
  },
  {
   "cell_type": "code",
   "execution_count": 8,
   "id": "5ddb0da9",
   "metadata": {},
   "outputs": [],
   "source": [
    "# setting the response array\n",
    "\n",
    "response_var = activities_spend[\"value\"]\n",
    "\n",
    "# putting the predictors in a dataframe\n",
    "predictors_vars = activities_spend.drop(columns = \"value\")"
   ]
  },
  {
   "cell_type": "code",
   "execution_count": 9,
   "id": "f8435651",
   "metadata": {},
   "outputs": [
    {
     "data": {
      "text/plain": [
       "LinearRegression()"
      ]
     },
     "execution_count": 9,
     "metadata": {},
     "output_type": "execute_result"
    }
   ],
   "source": [
    "# defining the model\n",
    "\n",
    "model = LinearRegression()\n",
    "\n",
    "model.fit(predictors_vars, response_var)"
   ]
  },
  {
   "cell_type": "code",
   "execution_count": 10,
   "id": "0fd2cd0e",
   "metadata": {},
   "outputs": [
    {
     "data": {
      "text/plain": [
       "0.6909188806674171"
      ]
     },
     "execution_count": 10,
     "metadata": {},
     "output_type": "execute_result"
    }
   ],
   "source": [
    "# getting the r-sq value\n",
    "\n",
    "model.score(predictors_vars, response_var)"
   ]
  },
  {
   "cell_type": "code",
   "execution_count": null,
   "id": "37e8efcf",
   "metadata": {},
   "outputs": [],
   "source": [
    "# This is a lot better, and a lot more what I'd expect for a good model.\n",
    "# The first one seemed massively overfitted, where this is more realistic. Hopefully I'll have good p-values here too."
   ]
  },
  {
   "cell_type": "code",
   "execution_count": 11,
   "id": "74963778",
   "metadata": {},
   "outputs": [
    {
     "data": {
      "text/plain": [
       "229.71428571428595"
      ]
     },
     "execution_count": 11,
     "metadata": {},
     "output_type": "execute_result"
    }
   ],
   "source": [
    "# getting the coefficients\n",
    "\n",
    "model.intercept_"
   ]
  },
  {
   "cell_type": "code",
   "execution_count": 12,
   "id": "9dcfb336",
   "metadata": {},
   "outputs": [
    {
     "data": {
      "text/plain": [
       "array([ 210.71428571,  583.14285714,  271.95238095,  161.78571429,\n",
       "       1230.57142857,  234.71428571, 1219.14285714])"
      ]
     },
     "execution_count": 12,
     "metadata": {},
     "output_type": "execute_result"
    }
   ],
   "source": [
    "model.coef_\n",
    "\n",
    "# these numbers don't seem as scattered as the first lot did - but maybe that just because there's fewer of them?"
   ]
  },
  {
   "cell_type": "code",
   "execution_count": 13,
   "id": "9fc7726f",
   "metadata": {},
   "outputs": [],
   "source": [
    "# getting the p-values"
   ]
  },
  {
   "cell_type": "code",
   "execution_count": 14,
   "id": "5579af46",
   "metadata": {},
   "outputs": [
    {
     "name": "stderr",
     "output_type": "stream",
     "text": [
      "/usr/local/anaconda3/envs/python39/lib/python3.9/site-packages/statsmodels/compat/pandas.py:65: FutureWarning: pandas.Int64Index is deprecated and will be removed from pandas in a future version. Use pandas.Index with the appropriate dtype instead.\n",
      "  from pandas import Int64Index as NumericIndex\n"
     ]
    }
   ],
   "source": [
    "import statsmodels.api as sm"
   ]
  },
  {
   "cell_type": "code",
   "execution_count": 15,
   "id": "a0a456e0",
   "metadata": {},
   "outputs": [],
   "source": [
    "predictors_vars = sm.add_constant(predictors_vars)"
   ]
  },
  {
   "cell_type": "code",
   "execution_count": 16,
   "id": "5c3855bf",
   "metadata": {},
   "outputs": [
    {
     "name": "stdout",
     "output_type": "stream",
     "text": [
      "                            OLS Regression Results                            \n",
      "==============================================================================\n",
      "Dep. Variable:                  value   R-squared:                       0.691\n",
      "Model:                            OLS   Adj. R-squared:                  0.667\n",
      "Method:                 Least Squares   F-statistic:                     28.74\n",
      "Date:                Fri, 11 Feb 2022   Prob (F-statistic):           2.07e-20\n",
      "Time:                        14:00:38   Log-Likelihood:                -678.36\n",
      "No. Observations:                  98   AIC:                             1373.\n",
      "Df Residuals:                      90   BIC:                             1393.\n",
      "Df Model:                           7                                         \n",
      "Covariance Type:            nonrobust                                         \n",
      "======================================================================================================\n",
      "                                         coef    std err          t      P>|t|      [0.025      0.975]\n",
      "------------------------------------------------------------------------------------------------------\n",
      "const                                229.7143     96.806      2.373      0.020      37.393     422.036\n",
      "activity_type_Day out                210.7143    111.782      1.885      0.063     -11.359     432.788\n",
      "activity_type_Evening out            583.1429    118.562      4.918      0.000     347.598     818.687\n",
      "activity_type_Leisure activity       271.9524    111.782      2.433      0.017      49.879     494.026\n",
      "activity_type_Live entertainment     161.7857    118.562      1.365      0.176     -73.759     397.330\n",
      "activity_type_Shopping              1230.5714    136.904      8.989      0.000     958.588    1502.555\n",
      "activity_type_Visit attraction       234.7143    136.904      1.714      0.090     -37.269     506.698\n",
      "activity_type_Visit family/friends  1219.1429    136.904      8.905      0.000     947.159    1491.126\n",
      "==============================================================================\n",
      "Omnibus:                        7.403   Durbin-Watson:                   1.415\n",
      "Prob(Omnibus):                  0.025   Jarque-Bera (JB):                7.084\n",
      "Skew:                           0.645   Prob(JB):                       0.0290\n",
      "Kurtosis:                       3.264   Cond. No.                         11.8\n",
      "==============================================================================\n",
      "\n",
      "Notes:\n",
      "[1] Standard Errors assume that the covariance matrix of the errors is correctly specified.\n"
     ]
    }
   ],
   "source": [
    "sm_model = sm.OLS(response_var, predictors_vars).fit()\n",
    "print(sm_model.summary())"
   ]
  },
  {
   "cell_type": "code",
   "execution_count": 17,
   "id": "9ffe0b37",
   "metadata": {},
   "outputs": [],
   "source": [
    "# check diagnostic plots\n",
    "\n",
    "residuals = sm_model.fittedvalues - response_var"
   ]
  },
  {
   "cell_type": "code",
   "execution_count": 18,
   "id": "336c7357",
   "metadata": {},
   "outputs": [
    {
     "data": {
      "text/plain": [
       "Text(0, 0.5, 'Residual')"
      ]
     },
     "execution_count": 18,
     "metadata": {},
     "output_type": "execute_result"
    },
    {
     "data": {
      "image/png": "[encoded data removed]",
      "text/plain": [
       "<Figure size 432x288 with 1 Axes>"
      ]
     },
     "metadata": {
      "needs_background": "light"
     },
     "output_type": "display_data"
    }
   ],
   "source": [
    "%matplotlib inline\n",
    "import seaborn as sns \n",
    "import matplotlib.pyplot as plt\n",
    "\n",
    "sns.residplot(x = sm_model.fittedvalues, y = residuals, # data to plot\n",
    "                          lowess = True, # Fit a lowess smoother to the residual scatterplot\n",
    "                          scatter_kws = {'alpha': 0.5}, # set the transparency of the scatter points\n",
    "                          line_kws = {'color': 'red', 'lw': 1, 'alpha': 0.8}) # set the line colour/transparency\n",
    "plt.xlabel(\"Fitted value\")\n",
    "plt.ylabel(\"Residual\")"
   ]
  },
  {
   "cell_type": "code",
   "execution_count": 19,
   "id": "ef6644a1",
   "metadata": {},
   "outputs": [
    {
     "data": {
      "image/png": "[encoded data removed]",
      "text/plain": [
       "<Figure size 432x288 with 1 Axes>"
      ]
     },
     "execution_count": 19,
     "metadata": {},
     "output_type": "execute_result"
    },
    {
     "data": {
      "image/png": "[encoded data removed]",
      "text/plain": [
       "<Figure size 432x288 with 1 Axes>"
      ]
     },
     "metadata": {
      "needs_background": "light"
     },
     "output_type": "display_data"
    }
   ],
   "source": [
    "import scipy.stats as stats\n",
    "\n",
    "sm.qqplot(residuals, dist=stats.t, fit=True, line='45')"
   ]
  },
  {
   "cell_type": "code",
   "execution_count": null,
   "id": "9d6eaf2a",
   "metadata": {},
   "outputs": [],
   "source": [
    "# the residual plot looks a bit funny, but that's because there's only categorical data to work with. \n",
    "# I could try putting the year back in"
   ]
  },
  {
   "cell_type": "markdown",
   "id": "301ef696",
   "metadata": {},
   "source": [
    "I think I might try building a random forest model instead, and see how that performs. The problems I'm facing are missing data (I only have one categorical variable per dataset, generally), which in turn breaks into too many dummy variables - giving me an awkward challenge of missing data whilst also overfitting. It seems like a random forest might perform well here, because it is binary on the categorical varibales, and could also correct these issues."
   ]
  },
  {
   "cell_type": "markdown",
   "id": "9cf7f200",
   "metadata": {},
   "source": [
    "### Random forest model"
   ]
  },
  {
   "cell_type": "code",
   "execution_count": 20,
   "id": "df1d8cfa",
   "metadata": {},
   "outputs": [],
   "source": [
    "# loading in data - using the dataset with all the variables"
   ]
  },
  {
   "cell_type": "code",
   "execution_count": 21,
   "id": "a82857cf",
   "metadata": {},
   "outputs": [],
   "source": [
    "import pandas as pd\n",
    "import numpy as np"
   ]
  },
  {
   "cell_type": "code",
   "execution_count": 56,
   "id": "7e66fdbb",
   "metadata": {},
   "outputs": [],
   "source": [
    "activities_spend_forest = pd.read_csv(\"clean_data/activities_spend.csv\")"
   ]
  },
  {
   "cell_type": "code",
   "execution_count": 57,
   "id": "51c605e6",
   "metadata": {},
   "outputs": [
    {
     "data": {
      "text/html": [
       "<div>\n",
       "<style scoped>\n",
       "    .dataframe tbody tr th:only-of-type {\n",
       "        vertical-align: middle;\n",
       "    }\n",
       "\n",
       "    .dataframe tbody tr th {\n",
       "        vertical-align: top;\n",
       "    }\n",
       "\n",
       "    .dataframe thead th {\n",
       "        text-align: right;\n",
       "    }\n",
       "</style>\n",
       "<table border=\"1\" class=\"dataframe\">\n",
       "  <thead>\n",
       "    <tr style=\"text-align: right;\">\n",
       "      <th></th>\n",
       "      <th>value</th>\n",
       "      <th>activity_type</th>\n",
       "      <th>spend_unit</th>\n",
       "    </tr>\n",
       "  </thead>\n",
       "  <tbody>\n",
       "    <tr>\n",
       "      <th>0</th>\n",
       "      <td>1662</td>\n",
       "      <td>Shopping</td>\n",
       "      <td>million (£)</td>\n",
       "    </tr>\n",
       "    <tr>\n",
       "      <th>1</th>\n",
       "      <td>469</td>\n",
       "      <td>Watch live sports</td>\n",
       "      <td>million (£)</td>\n",
       "    </tr>\n",
       "    <tr>\n",
       "      <th>2</th>\n",
       "      <td>892</td>\n",
       "      <td>Night out</td>\n",
       "      <td>million (£)</td>\n",
       "    </tr>\n",
       "    <tr>\n",
       "      <th>3</th>\n",
       "      <td>354</td>\n",
       "      <td>Attend personal event</td>\n",
       "      <td>million (£)</td>\n",
       "    </tr>\n",
       "    <tr>\n",
       "      <th>4</th>\n",
       "      <td>400</td>\n",
       "      <td>Watch live sports</td>\n",
       "      <td>million (£)</td>\n",
       "    </tr>\n",
       "  </tbody>\n",
       "</table>\n",
       "</div>"
      ],
      "text/plain": [
       "   value          activity_type   spend_unit\n",
       "0   1662               Shopping  million (£)\n",
       "1    469      Watch live sports  million (£)\n",
       "2    892              Night out  million (£)\n",
       "3    354  Attend personal event  million (£)\n",
       "4    400      Watch live sports  million (£)"
      ]
     },
     "execution_count": 57,
     "metadata": {},
     "output_type": "execute_result"
    }
   ],
   "source": [
    "# examining data\n",
    "\n",
    "activities_spend_forest.head()"
   ]
  },
  {
   "cell_type": "code",
   "execution_count": 58,
   "id": "fa682251",
   "metadata": {},
   "outputs": [
    {
     "data": {
      "text/html": [
       "<div>\n",
       "<style scoped>\n",
       "    .dataframe tbody tr th:only-of-type {\n",
       "        vertical-align: middle;\n",
       "    }\n",
       "\n",
       "    .dataframe tbody tr th {\n",
       "        vertical-align: top;\n",
       "    }\n",
       "\n",
       "    .dataframe thead th {\n",
       "        text-align: right;\n",
       "    }\n",
       "</style>\n",
       "<table border=\"1\" class=\"dataframe\">\n",
       "  <thead>\n",
       "    <tr style=\"text-align: right;\">\n",
       "      <th></th>\n",
       "      <th>value</th>\n",
       "      <th>activity_type_Attend public event</th>\n",
       "      <th>activity_type_Day out</th>\n",
       "      <th>activity_type_Day out (spa)</th>\n",
       "      <th>activity_type_Day trip - leisure</th>\n",
       "      <th>activity_type_Eating out</th>\n",
       "      <th>activity_type_Entertainment - cinema etc.</th>\n",
       "      <th>activity_type_Leisure activity</th>\n",
       "      <th>activity_type_Night out</th>\n",
       "      <th>activity_type_Outdoor leisure activity</th>\n",
       "      <th>activity_type_Shopping</th>\n",
       "      <th>activity_type_Sports participation</th>\n",
       "      <th>activity_type_Visit family/friends</th>\n",
       "      <th>activity_type_Visitor attraction</th>\n",
       "      <th>activity_type_Watch live sports</th>\n",
       "    </tr>\n",
       "  </thead>\n",
       "  <tbody>\n",
       "    <tr>\n",
       "      <th>0</th>\n",
       "      <td>1662</td>\n",
       "      <td>0</td>\n",
       "      <td>0</td>\n",
       "      <td>0</td>\n",
       "      <td>0</td>\n",
       "      <td>0</td>\n",
       "      <td>0</td>\n",
       "      <td>0</td>\n",
       "      <td>0</td>\n",
       "      <td>0</td>\n",
       "      <td>1</td>\n",
       "      <td>0</td>\n",
       "      <td>0</td>\n",
       "      <td>0</td>\n",
       "      <td>0</td>\n",
       "    </tr>\n",
       "    <tr>\n",
       "      <th>1</th>\n",
       "      <td>469</td>\n",
       "      <td>0</td>\n",
       "      <td>0</td>\n",
       "      <td>0</td>\n",
       "      <td>0</td>\n",
       "      <td>0</td>\n",
       "      <td>0</td>\n",
       "      <td>0</td>\n",
       "      <td>0</td>\n",
       "      <td>0</td>\n",
       "      <td>0</td>\n",
       "      <td>0</td>\n",
       "      <td>0</td>\n",
       "      <td>0</td>\n",
       "      <td>1</td>\n",
       "    </tr>\n",
       "    <tr>\n",
       "      <th>2</th>\n",
       "      <td>892</td>\n",
       "      <td>0</td>\n",
       "      <td>0</td>\n",
       "      <td>0</td>\n",
       "      <td>0</td>\n",
       "      <td>0</td>\n",
       "      <td>0</td>\n",
       "      <td>0</td>\n",
       "      <td>1</td>\n",
       "      <td>0</td>\n",
       "      <td>0</td>\n",
       "      <td>0</td>\n",
       "      <td>0</td>\n",
       "      <td>0</td>\n",
       "      <td>0</td>\n",
       "    </tr>\n",
       "    <tr>\n",
       "      <th>3</th>\n",
       "      <td>354</td>\n",
       "      <td>0</td>\n",
       "      <td>0</td>\n",
       "      <td>0</td>\n",
       "      <td>0</td>\n",
       "      <td>0</td>\n",
       "      <td>0</td>\n",
       "      <td>0</td>\n",
       "      <td>0</td>\n",
       "      <td>0</td>\n",
       "      <td>0</td>\n",
       "      <td>0</td>\n",
       "      <td>0</td>\n",
       "      <td>0</td>\n",
       "      <td>0</td>\n",
       "    </tr>\n",
       "    <tr>\n",
       "      <th>4</th>\n",
       "      <td>400</td>\n",
       "      <td>0</td>\n",
       "      <td>0</td>\n",
       "      <td>0</td>\n",
       "      <td>0</td>\n",
       "      <td>0</td>\n",
       "      <td>0</td>\n",
       "      <td>0</td>\n",
       "      <td>0</td>\n",
       "      <td>0</td>\n",
       "      <td>0</td>\n",
       "      <td>0</td>\n",
       "      <td>0</td>\n",
       "      <td>0</td>\n",
       "      <td>1</td>\n",
       "    </tr>\n",
       "    <tr>\n",
       "      <th>...</th>\n",
       "      <td>...</td>\n",
       "      <td>...</td>\n",
       "      <td>...</td>\n",
       "      <td>...</td>\n",
       "      <td>...</td>\n",
       "      <td>...</td>\n",
       "      <td>...</td>\n",
       "      <td>...</td>\n",
       "      <td>...</td>\n",
       "      <td>...</td>\n",
       "      <td>...</td>\n",
       "      <td>...</td>\n",
       "      <td>...</td>\n",
       "      <td>...</td>\n",
       "      <td>...</td>\n",
       "    </tr>\n",
       "    <tr>\n",
       "      <th>100</th>\n",
       "      <td>1959</td>\n",
       "      <td>0</td>\n",
       "      <td>0</td>\n",
       "      <td>0</td>\n",
       "      <td>0</td>\n",
       "      <td>1</td>\n",
       "      <td>0</td>\n",
       "      <td>0</td>\n",
       "      <td>0</td>\n",
       "      <td>0</td>\n",
       "      <td>0</td>\n",
       "      <td>0</td>\n",
       "      <td>0</td>\n",
       "      <td>0</td>\n",
       "      <td>0</td>\n",
       "    </tr>\n",
       "    <tr>\n",
       "      <th>101</th>\n",
       "      <td>1376</td>\n",
       "      <td>0</td>\n",
       "      <td>0</td>\n",
       "      <td>0</td>\n",
       "      <td>0</td>\n",
       "      <td>0</td>\n",
       "      <td>0</td>\n",
       "      <td>0</td>\n",
       "      <td>0</td>\n",
       "      <td>0</td>\n",
       "      <td>0</td>\n",
       "      <td>0</td>\n",
       "      <td>1</td>\n",
       "      <td>0</td>\n",
       "      <td>0</td>\n",
       "    </tr>\n",
       "    <tr>\n",
       "      <th>102</th>\n",
       "      <td>903</td>\n",
       "      <td>0</td>\n",
       "      <td>0</td>\n",
       "      <td>0</td>\n",
       "      <td>0</td>\n",
       "      <td>0</td>\n",
       "      <td>1</td>\n",
       "      <td>0</td>\n",
       "      <td>0</td>\n",
       "      <td>0</td>\n",
       "      <td>0</td>\n",
       "      <td>0</td>\n",
       "      <td>0</td>\n",
       "      <td>0</td>\n",
       "      <td>0</td>\n",
       "    </tr>\n",
       "    <tr>\n",
       "      <th>103</th>\n",
       "      <td>604</td>\n",
       "      <td>0</td>\n",
       "      <td>0</td>\n",
       "      <td>0</td>\n",
       "      <td>0</td>\n",
       "      <td>0</td>\n",
       "      <td>1</td>\n",
       "      <td>0</td>\n",
       "      <td>0</td>\n",
       "      <td>0</td>\n",
       "      <td>0</td>\n",
       "      <td>0</td>\n",
       "      <td>0</td>\n",
       "      <td>0</td>\n",
       "      <td>0</td>\n",
       "    </tr>\n",
       "    <tr>\n",
       "      <th>104</th>\n",
       "      <td>1698</td>\n",
       "      <td>0</td>\n",
       "      <td>0</td>\n",
       "      <td>0</td>\n",
       "      <td>0</td>\n",
       "      <td>0</td>\n",
       "      <td>0</td>\n",
       "      <td>0</td>\n",
       "      <td>0</td>\n",
       "      <td>0</td>\n",
       "      <td>0</td>\n",
       "      <td>0</td>\n",
       "      <td>1</td>\n",
       "      <td>0</td>\n",
       "      <td>0</td>\n",
       "    </tr>\n",
       "  </tbody>\n",
       "</table>\n",
       "<p>105 rows × 15 columns</p>\n",
       "</div>"
      ],
      "text/plain": [
       "     value  activity_type_Attend public event  activity_type_Day out  \\\n",
       "0     1662                                  0                      0   \n",
       "1      469                                  0                      0   \n",
       "2      892                                  0                      0   \n",
       "3      354                                  0                      0   \n",
       "4      400                                  0                      0   \n",
       "..     ...                                ...                    ...   \n",
       "100   1959                                  0                      0   \n",
       "101   1376                                  0                      0   \n",
       "102    903                                  0                      0   \n",
       "103    604                                  0                      0   \n",
       "104   1698                                  0                      0   \n",
       "\n",
       "     activity_type_Day out (spa)  activity_type_Day trip - leisure  \\\n",
       "0                              0                                 0   \n",
       "1                              0                                 0   \n",
       "2                              0                                 0   \n",
       "3                              0                                 0   \n",
       "4                              0                                 0   \n",
       "..                           ...                               ...   \n",
       "100                            0                                 0   \n",
       "101                            0                                 0   \n",
       "102                            0                                 0   \n",
       "103                            0                                 0   \n",
       "104                            0                                 0   \n",
       "\n",
       "     activity_type_Eating out  activity_type_Entertainment - cinema etc.  \\\n",
       "0                           0                                          0   \n",
       "1                           0                                          0   \n",
       "2                           0                                          0   \n",
       "3                           0                                          0   \n",
       "4                           0                                          0   \n",
       "..                        ...                                        ...   \n",
       "100                         1                                          0   \n",
       "101                         0                                          0   \n",
       "102                         0                                          1   \n",
       "103                         0                                          1   \n",
       "104                         0                                          0   \n",
       "\n",
       "     activity_type_Leisure activity  activity_type_Night out  \\\n",
       "0                                 0                        0   \n",
       "1                                 0                        0   \n",
       "2                                 0                        1   \n",
       "3                                 0                        0   \n",
       "4                                 0                        0   \n",
       "..                              ...                      ...   \n",
       "100                               0                        0   \n",
       "101                               0                        0   \n",
       "102                               0                        0   \n",
       "103                               0                        0   \n",
       "104                               0                        0   \n",
       "\n",
       "     activity_type_Outdoor leisure activity  activity_type_Shopping  \\\n",
       "0                                         0                       1   \n",
       "1                                         0                       0   \n",
       "2                                         0                       0   \n",
       "3                                         0                       0   \n",
       "4                                         0                       0   \n",
       "..                                      ...                     ...   \n",
       "100                                       0                       0   \n",
       "101                                       0                       0   \n",
       "102                                       0                       0   \n",
       "103                                       0                       0   \n",
       "104                                       0                       0   \n",
       "\n",
       "     activity_type_Sports participation  activity_type_Visit family/friends  \\\n",
       "0                                     0                                   0   \n",
       "1                                     0                                   0   \n",
       "2                                     0                                   0   \n",
       "3                                     0                                   0   \n",
       "4                                     0                                   0   \n",
       "..                                  ...                                 ...   \n",
       "100                                   0                                   0   \n",
       "101                                   0                                   1   \n",
       "102                                   0                                   0   \n",
       "103                                   0                                   0   \n",
       "104                                   0                                   1   \n",
       "\n",
       "     activity_type_Visitor attraction  activity_type_Watch live sports  \n",
       "0                                   0                                0  \n",
       "1                                   0                                1  \n",
       "2                                   0                                0  \n",
       "3                                   0                                0  \n",
       "4                                   0                                1  \n",
       "..                                ...                              ...  \n",
       "100                                 0                                0  \n",
       "101                                 0                                0  \n",
       "102                                 0                                0  \n",
       "103                                 0                                0  \n",
       "104                                 0                                0  \n",
       "\n",
       "[105 rows x 15 columns]"
      ]
     },
     "execution_count": 58,
     "metadata": {},
     "output_type": "execute_result"
    }
   ],
   "source": [
    "# creating dummy variables\n",
    "\n",
    "activities_spend_forest = pd.get_dummies(activities_spend_forest, drop_first = True)\n",
    "\n",
    "activities_spend_forest"
   ]
  },
  {
   "cell_type": "code",
   "execution_count": 59,
   "id": "21fc94b4",
   "metadata": {},
   "outputs": [],
   "source": [
    "# splitting the data into predictors, and target variable - before making the test/train split\n",
    "\n",
    "activities_spend_predictors = activities_spend_forest.drop(columns=\"value\")\n",
    "activities_spend_response = activities_spend_forest[\"value\"]"
   ]
  },
  {
   "cell_type": "code",
   "execution_count": null,
   "id": "77e47923",
   "metadata": {},
   "outputs": [],
   "source": []
  },
  {
   "cell_type": "code",
   "execution_count": 60,
   "id": "14947bd6",
   "metadata": {},
   "outputs": [],
   "source": [
    "from sklearn.model_selection import train_test_split"
   ]
  },
  {
   "cell_type": "code",
   "execution_count": 61,
   "id": "ff9ad78f",
   "metadata": {},
   "outputs": [],
   "source": [
    "act_spe_pre_train, act_spe_pre_test, act_spe_res_train, act_spe_res_test = (\n",
    "    train_test_split(\n",
    "        activities_spend_predictors,\n",
    "        activities_spend_response,\n",
    "        test_size = 0.1,\n",
    "        random_state = 7\n",
    "    )\n",
    ")"
   ]
  },
  {
   "cell_type": "code",
   "execution_count": 62,
   "id": "501ccee0",
   "metadata": {},
   "outputs": [],
   "source": [
    "# building the random forest model"
   ]
  },
  {
   "cell_type": "code",
   "execution_count": 63,
   "id": "d8b1f09e",
   "metadata": {},
   "outputs": [],
   "source": [
    "from sklearn.ensemble import RandomForestClassifier\n",
    "from sklearn.model_selection import cross_val_score"
   ]
  },
  {
   "cell_type": "code",
   "execution_count": 64,
   "id": "dfbe5cb8",
   "metadata": {},
   "outputs": [],
   "source": [
    "# run the model with 100 trees\n",
    "model = RandomForestClassifier(n_estimators = 100)\n"
   ]
  },
  {
   "cell_type": "code",
   "execution_count": 65,
   "id": "66491cf7",
   "metadata": {},
   "outputs": [
    {
     "data": {
      "text/plain": [
       "RandomForestClassifier()"
      ]
     },
     "execution_count": 65,
     "metadata": {},
     "output_type": "execute_result"
    }
   ],
   "source": [
    "# train the model on the training data\n",
    "model.fit(act_spe_pre_train, act_spe_res_train)"
   ]
  },
  {
   "cell_type": "code",
   "execution_count": 72,
   "id": "7b43fa8b",
   "metadata": {},
   "outputs": [
    {
     "name": "stderr",
     "output_type": "stream",
     "text": [
      "/usr/local/anaconda3/envs/python39/lib/python3.9/site-packages/sklearn/model_selection/_split.py:676: UserWarning: The least populated class in y has only 1 members, which is less than n_splits=2.\n",
      "  warnings.warn(\n"
     ]
    },
    {
     "data": {
      "text/plain": [
       "0.02127659574468085"
      ]
     },
     "execution_count": 72,
     "metadata": {},
     "output_type": "execute_result"
    }
   ],
   "source": [
    "scores = cross_val_score(\n",
    "    model, act_spe_pre_train, act_spe_res_train, scoring='accuracy', cv=2\n",
    ")\n",
    "np.mean(scores)\n"
   ]
  },
  {
   "cell_type": "markdown",
   "id": "af723576",
   "metadata": {},
   "source": [
    "This isn't a great result / model. The next thing I will try, is that I will build a logistic regression (and the last thing I will try, not today, and not in python), is building a k-means clustering."
   ]
  },
  {
   "cell_type": "markdown",
   "id": "e144845f",
   "metadata": {},
   "source": [
    "### Logistic regression"
   ]
  },
  {
   "cell_type": "code",
   "execution_count": 7,
   "id": "8af4acf9",
   "metadata": {},
   "outputs": [],
   "source": [
    "import pandas as pd\n",
    "import numpy as np\n",
    "from sklearn.model_selection import train_test_split"
   ]
  },
  {
   "cell_type": "code",
   "execution_count": 2,
   "id": "d4100060",
   "metadata": {},
   "outputs": [],
   "source": [
    "activities_spend_logistic = pd.read_csv(\"clean_data/activities_spend.csv\")"
   ]
  },
  {
   "cell_type": "code",
   "execution_count": 4,
   "id": "8e53d153",
   "metadata": {},
   "outputs": [
    {
     "data": {
      "text/html": [
       "<div>\n",
       "<style scoped>\n",
       "    .dataframe tbody tr th:only-of-type {\n",
       "        vertical-align: middle;\n",
       "    }\n",
       "\n",
       "    .dataframe tbody tr th {\n",
       "        vertical-align: top;\n",
       "    }\n",
       "\n",
       "    .dataframe thead th {\n",
       "        text-align: right;\n",
       "    }\n",
       "</style>\n",
       "<table border=\"1\" class=\"dataframe\">\n",
       "  <thead>\n",
       "    <tr style=\"text-align: right;\">\n",
       "      <th></th>\n",
       "      <th>value</th>\n",
       "      <th>activity_type_Attend public event</th>\n",
       "      <th>activity_type_Day out</th>\n",
       "      <th>activity_type_Day out (spa)</th>\n",
       "      <th>activity_type_Day trip - leisure</th>\n",
       "      <th>activity_type_Eating out</th>\n",
       "      <th>activity_type_Entertainment - cinema etc.</th>\n",
       "      <th>activity_type_Leisure activity</th>\n",
       "      <th>activity_type_Night out</th>\n",
       "      <th>activity_type_Outdoor leisure activity</th>\n",
       "      <th>activity_type_Shopping</th>\n",
       "      <th>activity_type_Sports participation</th>\n",
       "      <th>activity_type_Visit family/friends</th>\n",
       "      <th>activity_type_Visitor attraction</th>\n",
       "      <th>activity_type_Watch live sports</th>\n",
       "    </tr>\n",
       "  </thead>\n",
       "  <tbody>\n",
       "    <tr>\n",
       "      <th>0</th>\n",
       "      <td>1662</td>\n",
       "      <td>0</td>\n",
       "      <td>0</td>\n",
       "      <td>0</td>\n",
       "      <td>0</td>\n",
       "      <td>0</td>\n",
       "      <td>0</td>\n",
       "      <td>0</td>\n",
       "      <td>0</td>\n",
       "      <td>0</td>\n",
       "      <td>1</td>\n",
       "      <td>0</td>\n",
       "      <td>0</td>\n",
       "      <td>0</td>\n",
       "      <td>0</td>\n",
       "    </tr>\n",
       "    <tr>\n",
       "      <th>1</th>\n",
       "      <td>469</td>\n",
       "      <td>0</td>\n",
       "      <td>0</td>\n",
       "      <td>0</td>\n",
       "      <td>0</td>\n",
       "      <td>0</td>\n",
       "      <td>0</td>\n",
       "      <td>0</td>\n",
       "      <td>0</td>\n",
       "      <td>0</td>\n",
       "      <td>0</td>\n",
       "      <td>0</td>\n",
       "      <td>0</td>\n",
       "      <td>0</td>\n",
       "      <td>1</td>\n",
       "    </tr>\n",
       "    <tr>\n",
       "      <th>2</th>\n",
       "      <td>892</td>\n",
       "      <td>0</td>\n",
       "      <td>0</td>\n",
       "      <td>0</td>\n",
       "      <td>0</td>\n",
       "      <td>0</td>\n",
       "      <td>0</td>\n",
       "      <td>0</td>\n",
       "      <td>1</td>\n",
       "      <td>0</td>\n",
       "      <td>0</td>\n",
       "      <td>0</td>\n",
       "      <td>0</td>\n",
       "      <td>0</td>\n",
       "      <td>0</td>\n",
       "    </tr>\n",
       "    <tr>\n",
       "      <th>3</th>\n",
       "      <td>354</td>\n",
       "      <td>0</td>\n",
       "      <td>0</td>\n",
       "      <td>0</td>\n",
       "      <td>0</td>\n",
       "      <td>0</td>\n",
       "      <td>0</td>\n",
       "      <td>0</td>\n",
       "      <td>0</td>\n",
       "      <td>0</td>\n",
       "      <td>0</td>\n",
       "      <td>0</td>\n",
       "      <td>0</td>\n",
       "      <td>0</td>\n",
       "      <td>0</td>\n",
       "    </tr>\n",
       "    <tr>\n",
       "      <th>4</th>\n",
       "      <td>400</td>\n",
       "      <td>0</td>\n",
       "      <td>0</td>\n",
       "      <td>0</td>\n",
       "      <td>0</td>\n",
       "      <td>0</td>\n",
       "      <td>0</td>\n",
       "      <td>0</td>\n",
       "      <td>0</td>\n",
       "      <td>0</td>\n",
       "      <td>0</td>\n",
       "      <td>0</td>\n",
       "      <td>0</td>\n",
       "      <td>0</td>\n",
       "      <td>1</td>\n",
       "    </tr>\n",
       "    <tr>\n",
       "      <th>...</th>\n",
       "      <td>...</td>\n",
       "      <td>...</td>\n",
       "      <td>...</td>\n",
       "      <td>...</td>\n",
       "      <td>...</td>\n",
       "      <td>...</td>\n",
       "      <td>...</td>\n",
       "      <td>...</td>\n",
       "      <td>...</td>\n",
       "      <td>...</td>\n",
       "      <td>...</td>\n",
       "      <td>...</td>\n",
       "      <td>...</td>\n",
       "      <td>...</td>\n",
       "      <td>...</td>\n",
       "    </tr>\n",
       "    <tr>\n",
       "      <th>100</th>\n",
       "      <td>1959</td>\n",
       "      <td>0</td>\n",
       "      <td>0</td>\n",
       "      <td>0</td>\n",
       "      <td>0</td>\n",
       "      <td>1</td>\n",
       "      <td>0</td>\n",
       "      <td>0</td>\n",
       "      <td>0</td>\n",
       "      <td>0</td>\n",
       "      <td>0</td>\n",
       "      <td>0</td>\n",
       "      <td>0</td>\n",
       "      <td>0</td>\n",
       "      <td>0</td>\n",
       "    </tr>\n",
       "    <tr>\n",
       "      <th>101</th>\n",
       "      <td>1376</td>\n",
       "      <td>0</td>\n",
       "      <td>0</td>\n",
       "      <td>0</td>\n",
       "      <td>0</td>\n",
       "      <td>0</td>\n",
       "      <td>0</td>\n",
       "      <td>0</td>\n",
       "      <td>0</td>\n",
       "      <td>0</td>\n",
       "      <td>0</td>\n",
       "      <td>0</td>\n",
       "      <td>1</td>\n",
       "      <td>0</td>\n",
       "      <td>0</td>\n",
       "    </tr>\n",
       "    <tr>\n",
       "      <th>102</th>\n",
       "      <td>903</td>\n",
       "      <td>0</td>\n",
       "      <td>0</td>\n",
       "      <td>0</td>\n",
       "      <td>0</td>\n",
       "      <td>0</td>\n",
       "      <td>1</td>\n",
       "      <td>0</td>\n",
       "      <td>0</td>\n",
       "      <td>0</td>\n",
       "      <td>0</td>\n",
       "      <td>0</td>\n",
       "      <td>0</td>\n",
       "      <td>0</td>\n",
       "      <td>0</td>\n",
       "    </tr>\n",
       "    <tr>\n",
       "      <th>103</th>\n",
       "      <td>604</td>\n",
       "      <td>0</td>\n",
       "      <td>0</td>\n",
       "      <td>0</td>\n",
       "      <td>0</td>\n",
       "      <td>0</td>\n",
       "      <td>1</td>\n",
       "      <td>0</td>\n",
       "      <td>0</td>\n",
       "      <td>0</td>\n",
       "      <td>0</td>\n",
       "      <td>0</td>\n",
       "      <td>0</td>\n",
       "      <td>0</td>\n",
       "      <td>0</td>\n",
       "    </tr>\n",
       "    <tr>\n",
       "      <th>104</th>\n",
       "      <td>1698</td>\n",
       "      <td>0</td>\n",
       "      <td>0</td>\n",
       "      <td>0</td>\n",
       "      <td>0</td>\n",
       "      <td>0</td>\n",
       "      <td>0</td>\n",
       "      <td>0</td>\n",
       "      <td>0</td>\n",
       "      <td>0</td>\n",
       "      <td>0</td>\n",
       "      <td>0</td>\n",
       "      <td>1</td>\n",
       "      <td>0</td>\n",
       "      <td>0</td>\n",
       "    </tr>\n",
       "  </tbody>\n",
       "</table>\n",
       "<p>105 rows × 15 columns</p>\n",
       "</div>"
      ],
      "text/plain": [
       "     value  activity_type_Attend public event  activity_type_Day out  \\\n",
       "0     1662                                  0                      0   \n",
       "1      469                                  0                      0   \n",
       "2      892                                  0                      0   \n",
       "3      354                                  0                      0   \n",
       "4      400                                  0                      0   \n",
       "..     ...                                ...                    ...   \n",
       "100   1959                                  0                      0   \n",
       "101   1376                                  0                      0   \n",
       "102    903                                  0                      0   \n",
       "103    604                                  0                      0   \n",
       "104   1698                                  0                      0   \n",
       "\n",
       "     activity_type_Day out (spa)  activity_type_Day trip - leisure  \\\n",
       "0                              0                                 0   \n",
       "1                              0                                 0   \n",
       "2                              0                                 0   \n",
       "3                              0                                 0   \n",
       "4                              0                                 0   \n",
       "..                           ...                               ...   \n",
       "100                            0                                 0   \n",
       "101                            0                                 0   \n",
       "102                            0                                 0   \n",
       "103                            0                                 0   \n",
       "104                            0                                 0   \n",
       "\n",
       "     activity_type_Eating out  activity_type_Entertainment - cinema etc.  \\\n",
       "0                           0                                          0   \n",
       "1                           0                                          0   \n",
       "2                           0                                          0   \n",
       "3                           0                                          0   \n",
       "4                           0                                          0   \n",
       "..                        ...                                        ...   \n",
       "100                         1                                          0   \n",
       "101                         0                                          0   \n",
       "102                         0                                          1   \n",
       "103                         0                                          1   \n",
       "104                         0                                          0   \n",
       "\n",
       "     activity_type_Leisure activity  activity_type_Night out  \\\n",
       "0                                 0                        0   \n",
       "1                                 0                        0   \n",
       "2                                 0                        1   \n",
       "3                                 0                        0   \n",
       "4                                 0                        0   \n",
       "..                              ...                      ...   \n",
       "100                               0                        0   \n",
       "101                               0                        0   \n",
       "102                               0                        0   \n",
       "103                               0                        0   \n",
       "104                               0                        0   \n",
       "\n",
       "     activity_type_Outdoor leisure activity  activity_type_Shopping  \\\n",
       "0                                         0                       1   \n",
       "1                                         0                       0   \n",
       "2                                         0                       0   \n",
       "3                                         0                       0   \n",
       "4                                         0                       0   \n",
       "..                                      ...                     ...   \n",
       "100                                       0                       0   \n",
       "101                                       0                       0   \n",
       "102                                       0                       0   \n",
       "103                                       0                       0   \n",
       "104                                       0                       0   \n",
       "\n",
       "     activity_type_Sports participation  activity_type_Visit family/friends  \\\n",
       "0                                     0                                   0   \n",
       "1                                     0                                   0   \n",
       "2                                     0                                   0   \n",
       "3                                     0                                   0   \n",
       "4                                     0                                   0   \n",
       "..                                  ...                                 ...   \n",
       "100                                   0                                   0   \n",
       "101                                   0                                   1   \n",
       "102                                   0                                   0   \n",
       "103                                   0                                   0   \n",
       "104                                   0                                   1   \n",
       "\n",
       "     activity_type_Visitor attraction  activity_type_Watch live sports  \n",
       "0                                   0                                0  \n",
       "1                                   0                                1  \n",
       "2                                   0                                0  \n",
       "3                                   0                                0  \n",
       "4                                   0                                1  \n",
       "..                                ...                              ...  \n",
       "100                                 0                                0  \n",
       "101                                 0                                0  \n",
       "102                                 0                                0  \n",
       "103                                 0                                0  \n",
       "104                                 0                                0  \n",
       "\n",
       "[105 rows x 15 columns]"
      ]
     },
     "execution_count": 4,
     "metadata": {},
     "output_type": "execute_result"
    }
   ],
   "source": [
    "# creating dummy variables\n",
    "\n",
    "activities_spend_logistic = pd.get_dummies(activities_spend_logistic, drop_first = True)\n",
    "activities_spend_logistic"
   ]
  },
  {
   "cell_type": "code",
   "execution_count": 5,
   "id": "eb45c952",
   "metadata": {},
   "outputs": [],
   "source": [
    "# splitting the data into predictors, and target variable - before making the test/train split\n",
    "\n",
    "activities_spend_predictors = activities_spend_logistic.drop(columns=\"value\")\n",
    "activities_spend_response = activities_spend_logistic[\"value\"]"
   ]
  },
  {
   "cell_type": "code",
   "execution_count": 8,
   "id": "6ea40dcd",
   "metadata": {},
   "outputs": [],
   "source": [
    "act_spe_pre_train, act_spe_pre_test, act_spe_res_train, act_spe_res_test = (\n",
    "    train_test_split(\n",
    "        activities_spend_predictors,\n",
    "        activities_spend_response,\n",
    "        test_size = 0.1,\n",
    "        random_state = 7\n",
    "    )\n",
    ")"
   ]
  },
  {
   "cell_type": "code",
   "execution_count": 9,
   "id": "4f5afaa8",
   "metadata": {},
   "outputs": [],
   "source": [
    "from sklearn.linear_model import LogisticRegression\n",
    "from sklearn.model_selection import cross_val_score"
   ]
  },
  {
   "cell_type": "code",
   "execution_count": null,
   "id": "82de5734",
   "metadata": {},
   "outputs": [],
   "source": [
    "# building the model"
   ]
  },
  {
   "cell_type": "code",
   "execution_count": 11,
   "id": "096e2340",
   "metadata": {},
   "outputs": [
    {
     "name": "stderr",
     "output_type": "stream",
     "text": [
      "/usr/local/anaconda3/envs/python39/lib/python3.9/site-packages/sklearn/model_selection/_split.py:676: UserWarning: The least populated class in y has only 1 members, which is less than n_splits=2.\n",
      "  warnings.warn(\n"
     ]
    },
    {
     "data": {
      "text/plain": [
       "array([0.0212766, 0.0212766])"
      ]
     },
     "execution_count": 11,
     "metadata": {},
     "output_type": "execute_result"
    }
   ],
   "source": [
    "model = LogisticRegression()\n",
    "model.fit(act_spe_pre_train, act_spe_res_train)\n",
    "scores = cross_val_score(\n",
    "    model, act_spe_pre_train, act_spe_res_train, scoring='accuracy', cv=2\n",
    ")\n",
    "scores\n",
    "\n",
    "# this has the same problem as random forest did"
   ]
  },
  {
   "cell_type": "code",
   "execution_count": 12,
   "id": "5d068cce",
   "metadata": {},
   "outputs": [
    {
     "name": "stdout",
     "output_type": "stream",
     "text": [
      "0.1702127659574468\n",
      "0.02127659574468085\n"
     ]
    }
   ],
   "source": [
    "print(model.score(act_spe_pre_train, act_spe_res_train))\n",
    "print(np.mean(scores))"
   ]
  },
  {
   "cell_type": "code",
   "execution_count": 13,
   "id": "19686792",
   "metadata": {},
   "outputs": [
    {
     "data": {
      "text/plain": [
       "0.0"
      ]
     },
     "execution_count": 13,
     "metadata": {},
     "output_type": "execute_result"
    }
   ],
   "source": [
    "model.score(act_spe_pre_test, act_spe_res_test)\n"
   ]
  },
  {
   "cell_type": "code",
   "execution_count": null,
   "id": "1be54047",
   "metadata": {},
   "outputs": [],
   "source": []
  },
  {
   "cell_type": "code",
   "execution_count": null,
   "id": "817fe3db",
   "metadata": {},
   "outputs": [],
   "source": []
  },
  {
   "cell_type": "code",
   "execution_count": null,
   "id": "4c9ec055",
   "metadata": {},
   "outputs": [],
   "source": []
  },
  {
   "cell_type": "code",
   "execution_count": null,
   "id": "064eb735",
   "metadata": {},
   "outputs": [],
   "source": []
  },
  {
   "cell_type": "code",
   "execution_count": null,
   "id": "6e1184f6",
   "metadata": {},
   "outputs": [],
   "source": []
  }
 ],
 "metadata": {
  "kernelspec": {
   "display_name": "Python 3 (ipykernel)",
   "language": "python",
   "name": "python3"
  },
  "language_info": {
   "codemirror_mode": {
    "name": "ipython",
    "version": 3
   },
   "file_extension": ".py",
   "mimetype": "text/x-python",
   "name": "python",
   "nbconvert_exporter": "python",
   "pygments_lexer": "ipython3",
   "version": "3.9.7"
  }
 },
 "nbformat": 4,
 "nbformat_minor": 5
}
